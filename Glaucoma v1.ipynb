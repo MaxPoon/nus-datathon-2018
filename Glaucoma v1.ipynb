{
 "cells": [
  {
   "cell_type": "code",
   "execution_count": 1,
   "metadata": {
    "ExecuteTime": {
     "end_time": "2018-07-08T07:37:14.807555Z",
     "start_time": "2018-07-08T07:37:12.140268Z"
    }
   },
   "outputs": [],
   "source": [
    "import pandas as pd\n",
    "import numpy as np\n",
    "import os\n",
    "import numpy as np\n",
    "import matplotlib.pyplot as plt\n",
    "\n",
    "from sklearn import linear_model, decomposition, datasets\n",
    "from sklearn.pipeline import Pipeline\n",
    "from sklearn.model_selection import GridSearchCV\n",
    "from sklearn import svm\n",
    "from sklearn.ensemble import RandomForestClassifier\n",
    "from sklearn.model_selection import cross_val_score\n",
    "from sklearn.metrics import accuracy_score, roc_auc_score"
   ]
  },
  {
   "cell_type": "code",
   "execution_count": 2,
   "metadata": {
    "ExecuteTime": {
     "end_time": "2018-07-08T07:37:14.847121Z",
     "start_time": "2018-07-08T07:37:14.811445Z"
    }
   },
   "outputs": [],
   "source": [
    "df = pd.read_csv('patients_data_from_images.4.csv')"
   ]
  },
  {
   "cell_type": "code",
   "execution_count": 3,
   "metadata": {
    "ExecuteTime": {
     "end_time": "2018-07-08T07:37:14.917346Z",
     "start_time": "2018-07-08T07:37:14.851236Z"
    }
   },
   "outputs": [],
   "source": [
    "df['label'] = (df['total_md_gap_per_year']<-1).astype(int)\n",
    "features = [f for f in df.columns if f not in ['total_md_gap_per_year','label']]"
   ]
  },
  {
   "cell_type": "code",
   "execution_count": 4,
   "metadata": {
    "ExecuteTime": {
     "end_time": "2018-07-08T07:37:14.929641Z",
     "start_time": "2018-07-08T07:37:14.921820Z"
    }
   },
   "outputs": [],
   "source": [
    "pixel_features = features[5:5+52]+features[62:62+52]"
   ]
  },
  {
   "cell_type": "code",
   "execution_count": 12,
   "metadata": {
    "ExecuteTime": {
     "end_time": "2018-07-08T07:38:13.387173Z",
     "start_time": "2018-07-08T07:38:13.378827Z"
    }
   },
   "outputs": [],
   "source": [
    "from sklearn.model_selection import train_test_split\n",
    "X_train, X_test, y_train, y_test = train_test_split(df[features], df['label'], test_size=0.3, random_state=100)"
   ]
  },
  {
   "cell_type": "code",
   "execution_count": 6,
   "metadata": {
    "ExecuteTime": {
     "end_time": "2018-07-08T07:37:14.969656Z",
     "start_time": "2018-07-08T07:37:14.955923Z"
    }
   },
   "outputs": [
    {
     "data": {
      "text/plain": [
       "129"
      ]
     },
     "execution_count": 6,
     "metadata": {},
     "output_type": "execute_result"
    }
   ],
   "source": [
    "len(X_train)"
   ]
  },
  {
   "cell_type": "code",
   "execution_count": 7,
   "metadata": {
    "ExecuteTime": {
     "end_time": "2018-07-08T07:37:14.988080Z",
     "start_time": "2018-07-08T07:37:14.975518Z"
    }
   },
   "outputs": [
    {
     "data": {
      "text/plain": [
       "0    116\n",
       "1     13\n",
       "Name: label, dtype: int64"
      ]
     },
     "execution_count": 7,
     "metadata": {},
     "output_type": "execute_result"
    }
   ],
   "source": [
    "y_train.value_counts()"
   ]
  },
  {
   "cell_type": "markdown",
   "metadata": {},
   "source": [
    "## SVM (fails badly)"
   ]
  },
  {
   "cell_type": "code",
   "execution_count": 13,
   "metadata": {
    "ExecuteTime": {
     "end_time": "2018-07-08T07:38:23.182536Z",
     "start_time": "2018-07-08T07:38:22.776104Z"
    }
   },
   "outputs": [
    {
     "name": "stdout",
     "output_type": "stream",
     "text": [
      "[0.88888889 0.88461538 0.88461538 0.08       0.08      ]\n",
      "0.5\n",
      "[0.88888889 0.88461538 0.88461538 0.08       0.08      ]\n",
      "0.5\n",
      "[0.88888889 0.88461538 0.88461538 0.92       0.92      ]\n",
      "0.5\n",
      "[0.88888889 0.88461538 0.88461538 0.92       0.92      ]\n",
      "0.5\n",
      "[0.88888889 0.88461538 0.88461538 0.92       0.92      ]\n",
      "0.5\n"
     ]
    }
   ],
   "source": [
    "for c in [1e-3,1e-2,1,1e2,1e3]:\n",
    "#for g in np.array(range(1,10))/10.0:\n",
    "    rbf_svc = svm.SVC(kernel='rbf', gamma=0.7, C=c, probability=True,class_weight='balanced')\n",
    "    score = cross_val_score(rbf_svc, X_train, y_train, cv=5)\n",
    "    print(score)\n",
    "    rbf_svc.fit(X_train,y_train)\n",
    "    y_predict = rbf_svc.predict_proba(X_test)\n",
    "    print(roc_auc_score(y_test,y_predict[:,1]))"
   ]
  },
  {
   "cell_type": "markdown",
   "metadata": {},
   "source": [
    "## Decision Tree (Not as good as Random Forest)"
   ]
  },
  {
   "cell_type": "code",
   "execution_count": 14,
   "metadata": {
    "ExecuteTime": {
     "end_time": "2018-07-08T07:38:28.493853Z",
     "start_time": "2018-07-08T07:38:28.425789Z"
    }
   },
   "outputs": [
    {
     "name": "stdout",
     "output_type": "stream",
     "text": [
      "0.4444444444444444\n",
      "0.4537037037037037\n",
      "0.4537037037037037\n",
      "0.4444444444444444\n",
      "0.4444444444444444\n",
      "0.4444444444444444\n",
      "0.4444444444444444\n",
      "0.4444444444444444\n",
      "0.4537037037037037\n",
      "0.4444444444444444\n"
     ]
    }
   ],
   "source": [
    "from sklearn.tree import DecisionTreeClassifier\n",
    "for i in range(0,1000,100):\n",
    "    clf = DecisionTreeClassifier(random_state=i, class_weight='balanced')\n",
    "#    score = cross_val_score(clf, X_train, y_train, cv=5)\n",
    "#    print(np.mean(score))\n",
    "    clf.fit(X_train,y_train)\n",
    "    y_predict = clf.predict_proba(X_test)\n",
    "    print(roc_auc_score(y_test,y_predict[:,1]))"
   ]
  },
  {
   "cell_type": "markdown",
   "metadata": {},
   "source": [
    "## PCA for dimension of the problem"
   ]
  },
  {
   "cell_type": "code",
   "execution_count": 15,
   "metadata": {
    "ExecuteTime": {
     "end_time": "2018-07-08T07:38:47.946807Z",
     "start_time": "2018-07-08T07:38:47.381484Z"
    }
   },
   "outputs": [
    {
     "data": {
      "text/plain": [
       "PCA(copy=True, iterated_power='auto', n_components=None, random_state=None,\n",
       "  svd_solver='auto', tol=0.0, whiten=False)"
      ]
     },
     "execution_count": 15,
     "metadata": {},
     "output_type": "execute_result"
    }
   ],
   "source": [
    "import numpy as np\n",
    "from sklearn.decomposition import PCA\n",
    "pca = PCA()\n",
    "pca.fit(X_train)"
   ]
  },
  {
   "cell_type": "code",
   "execution_count": 16,
   "metadata": {
    "ExecuteTime": {
     "end_time": "2018-07-08T07:38:49.415035Z",
     "start_time": "2018-07-08T07:38:49.399305Z"
    }
   },
   "outputs": [
    {
     "data": {
      "text/plain": [
       "array([9.07394658e-01, 9.24506778e-02, 8.35144011e-05, 4.88474270e-05,\n",
       "       8.72054325e-06, 3.12636013e-06, 1.74533922e-06, 1.06637368e-06,\n",
       "       8.51398445e-07, 7.03120505e-07, 5.20858402e-07, 4.57765534e-07,\n",
       "       4.25941050e-07, 3.73658346e-07, 3.37904152e-07, 2.85177844e-07,\n",
       "       2.43943562e-07, 2.07284295e-07, 1.93421762e-07, 1.86555121e-07,\n",
       "       1.67799335e-07, 1.59222339e-07, 1.40159498e-07, 1.32591124e-07,\n",
       "       1.28858196e-07, 1.26389547e-07, 1.16025485e-07, 1.07599155e-07,\n",
       "       1.04259178e-07, 9.66803277e-08, 9.37581921e-08, 8.26509525e-08,\n",
       "       8.06269214e-08, 7.48726627e-08, 7.40710195e-08, 7.01157860e-08,\n",
       "       6.50596460e-08, 6.09574763e-08, 5.64117275e-08, 5.35082423e-08,\n",
       "       5.12579527e-08, 4.85314979e-08, 4.46098849e-08, 4.10438401e-08,\n",
       "       4.00711531e-08, 3.76650256e-08, 3.48298010e-08, 3.29626167e-08,\n",
       "       3.17455838e-08, 2.97592711e-08, 2.94086725e-08, 2.85274851e-08,\n",
       "       2.77705426e-08, 2.48764495e-08, 2.14246669e-08, 2.06906272e-08,\n",
       "       2.04431474e-08, 1.80678394e-08, 1.72603491e-08, 1.67183113e-08,\n",
       "       1.54713013e-08, 1.49909185e-08, 1.42436594e-08, 1.38397067e-08,\n",
       "       1.30150809e-08, 1.20774786e-08, 1.13416355e-08, 1.11042080e-08,\n",
       "       9.85681592e-09, 9.16584202e-09, 8.68737065e-09, 7.97862710e-09,\n",
       "       7.71058454e-09, 6.89044514e-09, 6.50330917e-09, 6.45417357e-09,\n",
       "       5.91553094e-09, 5.55933644e-09, 5.32470070e-09, 4.90341564e-09,\n",
       "       4.53015178e-09, 4.31909939e-09, 4.15715165e-09, 3.77729585e-09,\n",
       "       3.54814069e-09, 3.28549098e-09, 3.09687792e-09, 3.05790776e-09,\n",
       "       2.70832236e-09, 2.42570683e-09, 2.33897002e-09, 2.09134952e-09,\n",
       "       1.93270750e-09, 1.67939250e-09, 1.65927830e-09, 1.44243236e-09,\n",
       "       1.37194854e-09, 1.24997220e-09, 1.20506396e-09, 1.10816925e-09,\n",
       "       9.58164559e-10, 8.38638665e-10, 6.81668876e-10, 6.07180747e-10,\n",
       "       5.89878096e-10, 5.33734314e-10, 4.01112285e-10, 2.90800275e-10,\n",
       "       1.94240699e-10, 1.77609181e-10, 9.31363444e-11, 3.46645230e-12,\n",
       "       1.05307449e-12, 5.19234484e-13, 4.04694555e-13, 3.48366284e-13,\n",
       "       7.26298687e-14, 8.66166002e-33])"
      ]
     },
     "execution_count": 16,
     "metadata": {},
     "output_type": "execute_result"
    }
   ],
   "source": [
    "pca.explained_variance_ratio_"
   ]
  },
  {
   "cell_type": "code",
   "execution_count": 17,
   "metadata": {
    "ExecuteTime": {
     "end_time": "2018-07-08T07:52:09.801882Z",
     "start_time": "2018-07-08T07:39:28.854237Z"
    }
   },
   "outputs": [
    {
     "name": "stdout",
     "output_type": "stream",
     "text": [
      "0.7023180231268138\n",
      "0.732302835657723\n",
      "0.7447923005237673\n",
      "0.7459085864138597\n",
      "0.7460627197116386\n",
      "0.7456567890819223\n"
     ]
    }
   ],
   "source": [
    "from sklearn.model_selection import train_test_split\n",
    "\n",
    "trend = []\n",
    "for ne in [10, 100,300,500,800,1500]:\n",
    "    for i in [0,]:#range(0,1000,100):\n",
    "        score = []\n",
    "        \n",
    "        for mf in range(2,7):\n",
    "            for j in range(0,1000,30):\n",
    "                X_train, X_test, y_train, y_test = train_test_split(df[features], df['label'], test_size=0.3, random_state=j)\n",
    "                clf = RandomForestClassifier(\n",
    "                    n_estimators=ne,\n",
    "                    max_depth=2, max_features=mf, random_state=i,class_weight='balanced')\n",
    "        #         score = cross_val_score(clf, X_train, y_train, cv=5)\n",
    "        #         print(np.mean(score))  \n",
    "                clf.fit(X_train,y_train)\n",
    "                y_predict = clf.predict_proba(X_test)\n",
    "                score.append(roc_auc_score(y_test,y_predict[:,1]))\n",
    "        print(np.mean(score))\n",
    "        trend.append(np.mean(score))"
   ]
  },
  {
   "cell_type": "code",
   "execution_count": 18,
   "metadata": {
    "ExecuteTime": {
     "end_time": "2018-07-08T07:52:10.264637Z",
     "start_time": "2018-07-08T07:52:09.815430Z"
    }
   },
   "outputs": [
    {
     "data": {
      "text/plain": [
       "[<matplotlib.lines.Line2D at 0x103dae470>]"
      ]
     },
     "execution_count": 18,
     "metadata": {},
     "output_type": "execute_result"
    },
    {
     "data": {
      "image/png": "[encoded data removed]",
      "text/plain": [
       "<matplotlib.figure.Figure at 0x1091aa438>"
      ]
     },
     "metadata": {},
     "output_type": "display_data"
    }
   ],
   "source": [
    "plt.plot([10, 100,300,500,800,1500],trend)"
   ]
  },
  {
   "cell_type": "code",
   "execution_count": null,
   "metadata": {},
   "outputs": [],
   "source": [
    "from sklearn.model_selection import KFold\n",
    "kf = KFold(n_splits=5)\n",
    "kf.get_n_splits(df)\n",
    "for train_index, test_index in kf.split(df):\n",
    "    X_train, X_test = df[features].iloc[train_index], df[features].iloc[test_index]\n",
    "    y_train, y_test = df['label'].iloc[train_index], df['label'].iloc[test_index]"
   ]
  },
  {
   "cell_type": "code",
   "execution_count": null,
   "metadata": {},
   "outputs": [],
   "source": []
  }
 ],
 "metadata": {
  "kernelspec": {
   "display_name": "Python 3",
   "language": "python",
   "name": "python3"
  },
  "language_info": {
   "codemirror_mode": {
    "name": "ipython",
    "version": 3
   },
   "file_extension": ".py",
   "mimetype": "text/x-python",
   "name": "python",
   "nbconvert_exporter": "python",
   "pygments_lexer": "ipython3",
   "version": "3.6.4"
  },
  "latex_envs": {
   "LaTeX_envs_menu_present": true,
   "autoclose": false,
   "autocomplete": true,
   "bibliofile": "biblio.bib",
   "cite_by": "apalike",
   "current_citInitial": 1,
   "eqLabelWithNumbers": true,
   "eqNumInitial": 1,
   "hotkeys": {
    "equation": "Ctrl-E",
    "itemize": "Ctrl-I"
   },
   "labels_anchors": false,
   "latex_user_defs": false,
   "report_style_numbering": false,
   "user_envs_cfg": false
  },
  "toc": {
   "base_numbering": 1,
   "nav_menu": {},
   "number_sections": true,
   "sideBar": true,
   "skip_h1_title": false,
   "title_cell": "Table of Contents",
   "title_sidebar": "Contents",
   "toc_cell": false,
   "toc_position": {},
   "toc_section_display": true,
   "toc_window_display": false
  }
 },
 "nbformat": 4,
 "nbformat_minor": 2
}
